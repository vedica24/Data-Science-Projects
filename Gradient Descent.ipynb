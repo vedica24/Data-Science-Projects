{
 "cells": [
  {
   "cell_type": "code",
   "execution_count": 1,
   "id": "c7093ec6",
   "metadata": {},
   "outputs": [],
   "source": [
    "import pandas as pd\n",
    "import numpy as np"
   ]
  },
  {
   "cell_type": "code",
   "execution_count": 46,
   "id": "973c6e89",
   "metadata": {},
   "outputs": [],
   "source": [
    "df = pd.read_csv(\"training_boston.csv\")"
   ]
  },
  {
   "cell_type": "code",
   "execution_count": 47,
   "id": "36267b78",
   "metadata": {
    "scrolled": true
   },
   "outputs": [
    {
     "data": {
      "text/html": [
       "<div>\n",
       "<style scoped>\n",
       "    .dataframe tbody tr th:only-of-type {\n",
       "        vertical-align: middle;\n",
       "    }\n",
       "\n",
       "    .dataframe tbody tr th {\n",
       "        vertical-align: top;\n",
       "    }\n",
       "\n",
       "    .dataframe thead th {\n",
       "        text-align: right;\n",
       "    }\n",
       "</style>\n",
       "<table border=\"1\" class=\"dataframe\">\n",
       "  <thead>\n",
       "    <tr style=\"text-align: right;\">\n",
       "      <th></th>\n",
       "      <th># CRIM</th>\n",
       "      <th>ZN</th>\n",
       "      <th>INDUS</th>\n",
       "      <th>CHAS</th>\n",
       "      <th>NOX</th>\n",
       "      <th>RM</th>\n",
       "      <th>AGE</th>\n",
       "      <th>DIS</th>\n",
       "      <th>RAD</th>\n",
       "      <th>TAX</th>\n",
       "      <th>PTRATIO</th>\n",
       "      <th>B</th>\n",
       "      <th>LSTAT</th>\n",
       "      <th>Y</th>\n",
       "    </tr>\n",
       "  </thead>\n",
       "  <tbody>\n",
       "    <tr>\n",
       "      <th>0</th>\n",
       "      <td>-0.407850</td>\n",
       "      <td>-0.487722</td>\n",
       "      <td>-1.266023</td>\n",
       "      <td>-0.272599</td>\n",
       "      <td>-0.576134</td>\n",
       "      <td>1.239974</td>\n",
       "      <td>0.840122</td>\n",
       "      <td>-0.520264</td>\n",
       "      <td>-0.752922</td>\n",
       "      <td>-1.278354</td>\n",
       "      <td>-0.303094</td>\n",
       "      <td>0.410571</td>\n",
       "      <td>-1.097990</td>\n",
       "      <td>37.9</td>\n",
       "    </tr>\n",
       "    <tr>\n",
       "      <th>1</th>\n",
       "      <td>-0.407374</td>\n",
       "      <td>-0.487722</td>\n",
       "      <td>0.247057</td>\n",
       "      <td>-0.272599</td>\n",
       "      <td>-1.016689</td>\n",
       "      <td>0.001946</td>\n",
       "      <td>-0.838337</td>\n",
       "      <td>0.336351</td>\n",
       "      <td>-0.523001</td>\n",
       "      <td>-0.060801</td>\n",
       "      <td>0.113032</td>\n",
       "      <td>0.291169</td>\n",
       "      <td>-0.520474</td>\n",
       "      <td>21.4</td>\n",
       "    </tr>\n",
       "    <tr>\n",
       "      <th>2</th>\n",
       "      <td>0.125179</td>\n",
       "      <td>-0.487722</td>\n",
       "      <td>1.015999</td>\n",
       "      <td>-0.272599</td>\n",
       "      <td>1.367490</td>\n",
       "      <td>-0.439699</td>\n",
       "      <td>0.687212</td>\n",
       "      <td>-0.577309</td>\n",
       "      <td>1.661245</td>\n",
       "      <td>1.530926</td>\n",
       "      <td>0.806576</td>\n",
       "      <td>-3.795795</td>\n",
       "      <td>0.891076</td>\n",
       "      <td>12.7</td>\n",
       "    </tr>\n",
       "    <tr>\n",
       "      <th>3</th>\n",
       "      <td>0.028304</td>\n",
       "      <td>-0.487722</td>\n",
       "      <td>1.015999</td>\n",
       "      <td>-0.272599</td>\n",
       "      <td>1.859875</td>\n",
       "      <td>-0.047918</td>\n",
       "      <td>0.801005</td>\n",
       "      <td>-0.712836</td>\n",
       "      <td>1.661245</td>\n",
       "      <td>1.530926</td>\n",
       "      <td>0.806576</td>\n",
       "      <td>-0.066050</td>\n",
       "      <td>0.215438</td>\n",
       "      <td>19.9</td>\n",
       "    </tr>\n",
       "    <tr>\n",
       "      <th>4</th>\n",
       "      <td>-0.412408</td>\n",
       "      <td>-0.487722</td>\n",
       "      <td>-0.969827</td>\n",
       "      <td>-0.272599</td>\n",
       "      <td>-0.913029</td>\n",
       "      <td>-0.384137</td>\n",
       "      <td>-0.834781</td>\n",
       "      <td>0.300508</td>\n",
       "      <td>-0.752922</td>\n",
       "      <td>-0.957633</td>\n",
       "      <td>0.020560</td>\n",
       "      <td>0.431074</td>\n",
       "      <td>0.029007</td>\n",
       "      <td>22.5</td>\n",
       "    </tr>\n",
       "    <tr>\n",
       "      <th>...</th>\n",
       "      <td>...</td>\n",
       "      <td>...</td>\n",
       "      <td>...</td>\n",
       "      <td>...</td>\n",
       "      <td>...</td>\n",
       "      <td>...</td>\n",
       "      <td>...</td>\n",
       "      <td>...</td>\n",
       "      <td>...</td>\n",
       "      <td>...</td>\n",
       "      <td>...</td>\n",
       "      <td>...</td>\n",
       "      <td>...</td>\n",
       "      <td>...</td>\n",
       "    </tr>\n",
       "    <tr>\n",
       "      <th>374</th>\n",
       "      <td>-0.204929</td>\n",
       "      <td>-0.487722</td>\n",
       "      <td>1.231945</td>\n",
       "      <td>3.668398</td>\n",
       "      <td>0.434551</td>\n",
       "      <td>2.161728</td>\n",
       "      <td>1.053485</td>\n",
       "      <td>-0.833960</td>\n",
       "      <td>-0.523001</td>\n",
       "      <td>-0.031105</td>\n",
       "      <td>-1.736418</td>\n",
       "      <td>0.361122</td>\n",
       "      <td>-1.504494</td>\n",
       "      <td>50.0</td>\n",
       "    </tr>\n",
       "    <tr>\n",
       "      <th>375</th>\n",
       "      <td>0.231398</td>\n",
       "      <td>-0.487722</td>\n",
       "      <td>1.015999</td>\n",
       "      <td>-0.272599</td>\n",
       "      <td>1.367490</td>\n",
       "      <td>0.215644</td>\n",
       "      <td>0.687212</td>\n",
       "      <td>-0.703186</td>\n",
       "      <td>1.661245</td>\n",
       "      <td>1.530926</td>\n",
       "      <td>0.806576</td>\n",
       "      <td>-2.812183</td>\n",
       "      <td>0.499991</td>\n",
       "      <td>14.3</td>\n",
       "    </tr>\n",
       "    <tr>\n",
       "      <th>376</th>\n",
       "      <td>-0.408311</td>\n",
       "      <td>-0.487722</td>\n",
       "      <td>0.247057</td>\n",
       "      <td>-0.272599</td>\n",
       "      <td>-1.016689</td>\n",
       "      <td>-0.206055</td>\n",
       "      <td>-0.809889</td>\n",
       "      <td>0.140451</td>\n",
       "      <td>-0.523001</td>\n",
       "      <td>-0.060801</td>\n",
       "      <td>0.113032</td>\n",
       "      <td>0.332066</td>\n",
       "      <td>-0.334043</td>\n",
       "      <td>20.8</td>\n",
       "    </tr>\n",
       "    <tr>\n",
       "      <th>377</th>\n",
       "      <td>-0.410620</td>\n",
       "      <td>-0.487722</td>\n",
       "      <td>-1.152214</td>\n",
       "      <td>-0.272599</td>\n",
       "      <td>-0.818007</td>\n",
       "      <td>0.068904</td>\n",
       "      <td>-1.826921</td>\n",
       "      <td>0.674814</td>\n",
       "      <td>-0.637962</td>\n",
       "      <td>0.129256</td>\n",
       "      <td>-0.719220</td>\n",
       "      <td>0.203235</td>\n",
       "      <td>-0.744752</td>\n",
       "      <td>22.6</td>\n",
       "    </tr>\n",
       "    <tr>\n",
       "      <th>378</th>\n",
       "      <td>0.342909</td>\n",
       "      <td>-0.487722</td>\n",
       "      <td>1.015999</td>\n",
       "      <td>3.668398</td>\n",
       "      <td>0.659147</td>\n",
       "      <td>1.041946</td>\n",
       "      <td>1.028593</td>\n",
       "      <td>-1.232462</td>\n",
       "      <td>1.661245</td>\n",
       "      <td>1.530926</td>\n",
       "      <td>0.806576</td>\n",
       "      <td>0.387875</td>\n",
       "      <td>-1.358713</td>\n",
       "      <td>50.0</td>\n",
       "    </tr>\n",
       "  </tbody>\n",
       "</table>\n",
       "<p>379 rows × 14 columns</p>\n",
       "</div>"
      ],
      "text/plain": [
       "       # CRIM        ZN     INDUS      CHAS       NOX        RM       AGE  \\\n",
       "0   -0.407850 -0.487722 -1.266023 -0.272599 -0.576134  1.239974  0.840122   \n",
       "1   -0.407374 -0.487722  0.247057 -0.272599 -1.016689  0.001946 -0.838337   \n",
       "2    0.125179 -0.487722  1.015999 -0.272599  1.367490 -0.439699  0.687212   \n",
       "3    0.028304 -0.487722  1.015999 -0.272599  1.859875 -0.047918  0.801005   \n",
       "4   -0.412408 -0.487722 -0.969827 -0.272599 -0.913029 -0.384137 -0.834781   \n",
       "..        ...       ...       ...       ...       ...       ...       ...   \n",
       "374 -0.204929 -0.487722  1.231945  3.668398  0.434551  2.161728  1.053485   \n",
       "375  0.231398 -0.487722  1.015999 -0.272599  1.367490  0.215644  0.687212   \n",
       "376 -0.408311 -0.487722  0.247057 -0.272599 -1.016689 -0.206055 -0.809889   \n",
       "377 -0.410620 -0.487722 -1.152214 -0.272599 -0.818007  0.068904 -1.826921   \n",
       "378  0.342909 -0.487722  1.015999  3.668398  0.659147  1.041946  1.028593   \n",
       "\n",
       "          DIS       RAD       TAX   PTRATIO         B     LSTAT     Y  \n",
       "0   -0.520264 -0.752922 -1.278354 -0.303094  0.410571 -1.097990  37.9  \n",
       "1    0.336351 -0.523001 -0.060801  0.113032  0.291169 -0.520474  21.4  \n",
       "2   -0.577309  1.661245  1.530926  0.806576 -3.795795  0.891076  12.7  \n",
       "3   -0.712836  1.661245  1.530926  0.806576 -0.066050  0.215438  19.9  \n",
       "4    0.300508 -0.752922 -0.957633  0.020560  0.431074  0.029007  22.5  \n",
       "..        ...       ...       ...       ...       ...       ...   ...  \n",
       "374 -0.833960 -0.523001 -0.031105 -1.736418  0.361122 -1.504494  50.0  \n",
       "375 -0.703186  1.661245  1.530926  0.806576 -2.812183  0.499991  14.3  \n",
       "376  0.140451 -0.523001 -0.060801  0.113032  0.332066 -0.334043  20.8  \n",
       "377  0.674814 -0.637962  0.129256 -0.719220  0.203235 -0.744752  22.6  \n",
       "378 -1.232462  1.661245  1.530926  0.806576  0.387875 -1.358713  50.0  \n",
       "\n",
       "[379 rows x 14 columns]"
      ]
     },
     "execution_count": 47,
     "metadata": {},
     "output_type": "execute_result"
    }
   ],
   "source": [
    "df"
   ]
  },
  {
   "cell_type": "code",
   "execution_count": 52,
   "id": "bac39dae",
   "metadata": {},
   "outputs": [],
   "source": [
    "df['x1'] = np.ones(379)"
   ]
  },
  {
   "cell_type": "code",
   "execution_count": 53,
   "id": "313328bb",
   "metadata": {},
   "outputs": [
    {
     "data": {
      "text/html": [
       "<div>\n",
       "<style scoped>\n",
       "    .dataframe tbody tr th:only-of-type {\n",
       "        vertical-align: middle;\n",
       "    }\n",
       "\n",
       "    .dataframe tbody tr th {\n",
       "        vertical-align: top;\n",
       "    }\n",
       "\n",
       "    .dataframe thead th {\n",
       "        text-align: right;\n",
       "    }\n",
       "</style>\n",
       "<table border=\"1\" class=\"dataframe\">\n",
       "  <thead>\n",
       "    <tr style=\"text-align: right;\">\n",
       "      <th></th>\n",
       "      <th># CRIM</th>\n",
       "      <th>ZN</th>\n",
       "      <th>INDUS</th>\n",
       "      <th>CHAS</th>\n",
       "      <th>NOX</th>\n",
       "      <th>RM</th>\n",
       "      <th>AGE</th>\n",
       "      <th>DIS</th>\n",
       "      <th>RAD</th>\n",
       "      <th>TAX</th>\n",
       "      <th>PTRATIO</th>\n",
       "      <th>B</th>\n",
       "      <th>LSTAT</th>\n",
       "      <th>Y</th>\n",
       "      <th>x1</th>\n",
       "    </tr>\n",
       "  </thead>\n",
       "  <tbody>\n",
       "    <tr>\n",
       "      <th>0</th>\n",
       "      <td>-0.407850</td>\n",
       "      <td>-0.487722</td>\n",
       "      <td>-1.266023</td>\n",
       "      <td>-0.272599</td>\n",
       "      <td>-0.576134</td>\n",
       "      <td>1.239974</td>\n",
       "      <td>0.840122</td>\n",
       "      <td>-0.520264</td>\n",
       "      <td>-0.752922</td>\n",
       "      <td>-1.278354</td>\n",
       "      <td>-0.303094</td>\n",
       "      <td>0.410571</td>\n",
       "      <td>-1.097990</td>\n",
       "      <td>37.9</td>\n",
       "      <td>1.0</td>\n",
       "    </tr>\n",
       "    <tr>\n",
       "      <th>1</th>\n",
       "      <td>-0.407374</td>\n",
       "      <td>-0.487722</td>\n",
       "      <td>0.247057</td>\n",
       "      <td>-0.272599</td>\n",
       "      <td>-1.016689</td>\n",
       "      <td>0.001946</td>\n",
       "      <td>-0.838337</td>\n",
       "      <td>0.336351</td>\n",
       "      <td>-0.523001</td>\n",
       "      <td>-0.060801</td>\n",
       "      <td>0.113032</td>\n",
       "      <td>0.291169</td>\n",
       "      <td>-0.520474</td>\n",
       "      <td>21.4</td>\n",
       "      <td>1.0</td>\n",
       "    </tr>\n",
       "    <tr>\n",
       "      <th>2</th>\n",
       "      <td>0.125179</td>\n",
       "      <td>-0.487722</td>\n",
       "      <td>1.015999</td>\n",
       "      <td>-0.272599</td>\n",
       "      <td>1.367490</td>\n",
       "      <td>-0.439699</td>\n",
       "      <td>0.687212</td>\n",
       "      <td>-0.577309</td>\n",
       "      <td>1.661245</td>\n",
       "      <td>1.530926</td>\n",
       "      <td>0.806576</td>\n",
       "      <td>-3.795795</td>\n",
       "      <td>0.891076</td>\n",
       "      <td>12.7</td>\n",
       "      <td>1.0</td>\n",
       "    </tr>\n",
       "    <tr>\n",
       "      <th>3</th>\n",
       "      <td>0.028304</td>\n",
       "      <td>-0.487722</td>\n",
       "      <td>1.015999</td>\n",
       "      <td>-0.272599</td>\n",
       "      <td>1.859875</td>\n",
       "      <td>-0.047918</td>\n",
       "      <td>0.801005</td>\n",
       "      <td>-0.712836</td>\n",
       "      <td>1.661245</td>\n",
       "      <td>1.530926</td>\n",
       "      <td>0.806576</td>\n",
       "      <td>-0.066050</td>\n",
       "      <td>0.215438</td>\n",
       "      <td>19.9</td>\n",
       "      <td>1.0</td>\n",
       "    </tr>\n",
       "    <tr>\n",
       "      <th>4</th>\n",
       "      <td>-0.412408</td>\n",
       "      <td>-0.487722</td>\n",
       "      <td>-0.969827</td>\n",
       "      <td>-0.272599</td>\n",
       "      <td>-0.913029</td>\n",
       "      <td>-0.384137</td>\n",
       "      <td>-0.834781</td>\n",
       "      <td>0.300508</td>\n",
       "      <td>-0.752922</td>\n",
       "      <td>-0.957633</td>\n",
       "      <td>0.020560</td>\n",
       "      <td>0.431074</td>\n",
       "      <td>0.029007</td>\n",
       "      <td>22.5</td>\n",
       "      <td>1.0</td>\n",
       "    </tr>\n",
       "    <tr>\n",
       "      <th>...</th>\n",
       "      <td>...</td>\n",
       "      <td>...</td>\n",
       "      <td>...</td>\n",
       "      <td>...</td>\n",
       "      <td>...</td>\n",
       "      <td>...</td>\n",
       "      <td>...</td>\n",
       "      <td>...</td>\n",
       "      <td>...</td>\n",
       "      <td>...</td>\n",
       "      <td>...</td>\n",
       "      <td>...</td>\n",
       "      <td>...</td>\n",
       "      <td>...</td>\n",
       "      <td>...</td>\n",
       "    </tr>\n",
       "    <tr>\n",
       "      <th>374</th>\n",
       "      <td>-0.204929</td>\n",
       "      <td>-0.487722</td>\n",
       "      <td>1.231945</td>\n",
       "      <td>3.668398</td>\n",
       "      <td>0.434551</td>\n",
       "      <td>2.161728</td>\n",
       "      <td>1.053485</td>\n",
       "      <td>-0.833960</td>\n",
       "      <td>-0.523001</td>\n",
       "      <td>-0.031105</td>\n",
       "      <td>-1.736418</td>\n",
       "      <td>0.361122</td>\n",
       "      <td>-1.504494</td>\n",
       "      <td>50.0</td>\n",
       "      <td>1.0</td>\n",
       "    </tr>\n",
       "    <tr>\n",
       "      <th>375</th>\n",
       "      <td>0.231398</td>\n",
       "      <td>-0.487722</td>\n",
       "      <td>1.015999</td>\n",
       "      <td>-0.272599</td>\n",
       "      <td>1.367490</td>\n",
       "      <td>0.215644</td>\n",
       "      <td>0.687212</td>\n",
       "      <td>-0.703186</td>\n",
       "      <td>1.661245</td>\n",
       "      <td>1.530926</td>\n",
       "      <td>0.806576</td>\n",
       "      <td>-2.812183</td>\n",
       "      <td>0.499991</td>\n",
       "      <td>14.3</td>\n",
       "      <td>1.0</td>\n",
       "    </tr>\n",
       "    <tr>\n",
       "      <th>376</th>\n",
       "      <td>-0.408311</td>\n",
       "      <td>-0.487722</td>\n",
       "      <td>0.247057</td>\n",
       "      <td>-0.272599</td>\n",
       "      <td>-1.016689</td>\n",
       "      <td>-0.206055</td>\n",
       "      <td>-0.809889</td>\n",
       "      <td>0.140451</td>\n",
       "      <td>-0.523001</td>\n",
       "      <td>-0.060801</td>\n",
       "      <td>0.113032</td>\n",
       "      <td>0.332066</td>\n",
       "      <td>-0.334043</td>\n",
       "      <td>20.8</td>\n",
       "      <td>1.0</td>\n",
       "    </tr>\n",
       "    <tr>\n",
       "      <th>377</th>\n",
       "      <td>-0.410620</td>\n",
       "      <td>-0.487722</td>\n",
       "      <td>-1.152214</td>\n",
       "      <td>-0.272599</td>\n",
       "      <td>-0.818007</td>\n",
       "      <td>0.068904</td>\n",
       "      <td>-1.826921</td>\n",
       "      <td>0.674814</td>\n",
       "      <td>-0.637962</td>\n",
       "      <td>0.129256</td>\n",
       "      <td>-0.719220</td>\n",
       "      <td>0.203235</td>\n",
       "      <td>-0.744752</td>\n",
       "      <td>22.6</td>\n",
       "      <td>1.0</td>\n",
       "    </tr>\n",
       "    <tr>\n",
       "      <th>378</th>\n",
       "      <td>0.342909</td>\n",
       "      <td>-0.487722</td>\n",
       "      <td>1.015999</td>\n",
       "      <td>3.668398</td>\n",
       "      <td>0.659147</td>\n",
       "      <td>1.041946</td>\n",
       "      <td>1.028593</td>\n",
       "      <td>-1.232462</td>\n",
       "      <td>1.661245</td>\n",
       "      <td>1.530926</td>\n",
       "      <td>0.806576</td>\n",
       "      <td>0.387875</td>\n",
       "      <td>-1.358713</td>\n",
       "      <td>50.0</td>\n",
       "      <td>1.0</td>\n",
       "    </tr>\n",
       "  </tbody>\n",
       "</table>\n",
       "<p>379 rows × 15 columns</p>\n",
       "</div>"
      ],
      "text/plain": [
       "       # CRIM        ZN     INDUS      CHAS       NOX        RM       AGE  \\\n",
       "0   -0.407850 -0.487722 -1.266023 -0.272599 -0.576134  1.239974  0.840122   \n",
       "1   -0.407374 -0.487722  0.247057 -0.272599 -1.016689  0.001946 -0.838337   \n",
       "2    0.125179 -0.487722  1.015999 -0.272599  1.367490 -0.439699  0.687212   \n",
       "3    0.028304 -0.487722  1.015999 -0.272599  1.859875 -0.047918  0.801005   \n",
       "4   -0.412408 -0.487722 -0.969827 -0.272599 -0.913029 -0.384137 -0.834781   \n",
       "..        ...       ...       ...       ...       ...       ...       ...   \n",
       "374 -0.204929 -0.487722  1.231945  3.668398  0.434551  2.161728  1.053485   \n",
       "375  0.231398 -0.487722  1.015999 -0.272599  1.367490  0.215644  0.687212   \n",
       "376 -0.408311 -0.487722  0.247057 -0.272599 -1.016689 -0.206055 -0.809889   \n",
       "377 -0.410620 -0.487722 -1.152214 -0.272599 -0.818007  0.068904 -1.826921   \n",
       "378  0.342909 -0.487722  1.015999  3.668398  0.659147  1.041946  1.028593   \n",
       "\n",
       "          DIS       RAD       TAX   PTRATIO         B     LSTAT     Y   x1  \n",
       "0   -0.520264 -0.752922 -1.278354 -0.303094  0.410571 -1.097990  37.9  1.0  \n",
       "1    0.336351 -0.523001 -0.060801  0.113032  0.291169 -0.520474  21.4  1.0  \n",
       "2   -0.577309  1.661245  1.530926  0.806576 -3.795795  0.891076  12.7  1.0  \n",
       "3   -0.712836  1.661245  1.530926  0.806576 -0.066050  0.215438  19.9  1.0  \n",
       "4    0.300508 -0.752922 -0.957633  0.020560  0.431074  0.029007  22.5  1.0  \n",
       "..        ...       ...       ...       ...       ...       ...   ...  ...  \n",
       "374 -0.833960 -0.523001 -0.031105 -1.736418  0.361122 -1.504494  50.0  1.0  \n",
       "375 -0.703186  1.661245  1.530926  0.806576 -2.812183  0.499991  14.3  1.0  \n",
       "376  0.140451 -0.523001 -0.060801  0.113032  0.332066 -0.334043  20.8  1.0  \n",
       "377  0.674814 -0.637962  0.129256 -0.719220  0.203235 -0.744752  22.6  1.0  \n",
       "378 -1.232462  1.661245  1.530926  0.806576  0.387875 -1.358713  50.0  1.0  \n",
       "\n",
       "[379 rows x 15 columns]"
      ]
     },
     "execution_count": 53,
     "metadata": {},
     "output_type": "execute_result"
    }
   ],
   "source": [
    "df"
   ]
  },
  {
   "cell_type": "code",
   "execution_count": 35,
   "id": "4bc308fc",
   "metadata": {},
   "outputs": [],
   "source": [
    "X_test = np.loadtxt(\"test_boston.csv\", delimiter = ',')"
   ]
  },
  {
   "cell_type": "code",
   "execution_count": 41,
   "id": "2f958e90",
   "metadata": {},
   "outputs": [
    {
     "data": {
      "text/plain": [
       "13"
      ]
     },
     "execution_count": 41,
     "metadata": {},
     "output_type": "execute_result"
    }
   ],
   "source": [
    "X_test.shape[1]"
   ]
  },
  {
   "cell_type": "code",
   "execution_count": 54,
   "id": "cde30762",
   "metadata": {},
   "outputs": [],
   "source": [
    "X_train = df.loc[:, df.columns!=\" Y\"]"
   ]
  },
  {
   "cell_type": "code",
   "execution_count": 55,
   "id": "b935c2e4",
   "metadata": {},
   "outputs": [
    {
     "data": {
      "text/plain": [
       "Index(['# CRIM', ' ZN', ' INDUS', ' CHAS', ' NOX', ' RM', ' AGE', ' DIS',\n",
       "       ' RAD', ' TAX', ' PTRATIO', ' B', ' LSTAT', ' Y', 'x1'],\n",
       "      dtype='object')"
      ]
     },
     "execution_count": 55,
     "metadata": {},
     "output_type": "execute_result"
    }
   ],
   "source": [
    "df.columns"
   ]
  },
  {
   "cell_type": "code",
   "execution_count": 56,
   "id": "534c2124",
   "metadata": {},
   "outputs": [],
   "source": [
    "Y_train = df[\" Y\"]"
   ]
  },
  {
   "cell_type": "code",
   "execution_count": 17,
   "id": "1f7ef98a",
   "metadata": {},
   "outputs": [
    {
     "data": {
      "text/plain": [
       "(379, 13)"
      ]
     },
     "execution_count": 17,
     "metadata": {},
     "output_type": "execute_result"
    }
   ],
   "source": [
    "X_train.shape"
   ]
  },
  {
   "cell_type": "markdown",
   "id": "ded3f8d7",
   "metadata": {},
   "source": [
    "### using direct sklearn function for gradient descent"
   ]
  },
  {
   "cell_type": "code",
   "execution_count": 23,
   "id": "b99a1868",
   "metadata": {},
   "outputs": [
    {
     "data": {
      "text/plain": [
       "GradientBoostingRegressor()"
      ]
     },
     "execution_count": 23,
     "metadata": {},
     "output_type": "execute_result"
    }
   ],
   "source": [
    "from sklearn.ensemble import GradientBoostingRegressor\n",
    "model = GradientBoostingRegressor()\n",
    "model.fit(X_train,Y_train)"
   ]
  },
  {
   "cell_type": "code",
   "execution_count": 24,
   "id": "5b7a59e9",
   "metadata": {},
   "outputs": [],
   "source": [
    "y_pred = model.predict(X_train)"
   ]
  },
  {
   "cell_type": "code",
   "execution_count": 28,
   "id": "35d51c73",
   "metadata": {},
   "outputs": [],
   "source": [
    "from sklearn.metrics import mean_squared_error\n",
    "mse_self_implement = mean_squared_error(Y_train, y_pred)"
   ]
  },
  {
   "cell_type": "code",
   "execution_count": 29,
   "id": "4e646b93",
   "metadata": {},
   "outputs": [
    {
     "data": {
      "text/plain": [
       "1.9853817122497177"
      ]
     },
     "execution_count": 29,
     "metadata": {},
     "output_type": "execute_result"
    }
   ],
   "source": [
    "mse_self_implement"
   ]
  },
  {
   "cell_type": "code",
   "execution_count": 30,
   "id": "9d9b8569",
   "metadata": {},
   "outputs": [
    {
     "name": "stdout",
     "output_type": "stream",
     "text": [
      "Train score :  0.9774216123881818\n"
     ]
    }
   ],
   "source": [
    "u = ((Y_train - y_pred)**2).sum()\n",
    "v = ((Y_train - Y_train.mean())**2).sum()\n",
    "score = 1 - u/v\n",
    "print(\"Train score : \", score)"
   ]
  },
  {
   "cell_type": "code",
   "execution_count": 38,
   "id": "1f2e893b",
   "metadata": {},
   "outputs": [],
   "source": [
    "y_test_pred = model.predict(X_test)"
   ]
  },
  {
   "cell_type": "code",
   "execution_count": 120,
   "id": "e47fa68e",
   "metadata": {
    "scrolled": true
   },
   "outputs": [
    {
     "ename": "AttributeError",
     "evalue": "'numpy.ndarray' object has no attribute 'to_csv'",
     "output_type": "error",
     "traceback": [
      "\u001b[1;31m---------------------------------------------------------------------------\u001b[0m",
      "\u001b[1;31mAttributeError\u001b[0m                            Traceback (most recent call last)",
      "\u001b[1;32m<ipython-input-120-5bb7b56ddfad>\u001b[0m in \u001b[0;36m<module>\u001b[1;34m\u001b[0m\n\u001b[1;32m----> 1\u001b[1;33m \u001b[0my_test_pred\u001b[0m\u001b[1;33m.\u001b[0m\u001b[0mto_csv\u001b[0m\u001b[1;33m(\u001b[0m\u001b[1;34m'gradient.csv'\u001b[0m\u001b[1;33m)\u001b[0m\u001b[1;33m\u001b[0m\u001b[1;33m\u001b[0m\u001b[0m\n\u001b[0m",
      "\u001b[1;31mAttributeError\u001b[0m: 'numpy.ndarray' object has no attribute 'to_csv'"
     ]
    }
   ],
   "source": [
    "y_test_pred.savetxt('gradient.csv')"
   ]
  },
  {
   "cell_type": "code",
   "execution_count": 121,
   "id": "f442a5c9",
   "metadata": {},
   "outputs": [],
   "source": [
    "np.savetxt(\"gradient.csv\", y_test_pred, delimiter=\",\")"
   ]
  },
  {
   "cell_type": "markdown",
   "id": "4a1a3e36",
   "metadata": {},
   "source": [
    "### implementation gradient descent"
   ]
  },
  {
   "cell_type": "code",
   "execution_count": null,
   "id": "846ae9c0",
   "metadata": {},
   "outputs": [],
   "source": [
    "# This function finds the new gradient at each step\n",
    "def step_gradient(X_train, Y_train, learning_rate, m , c):\n",
    "    n = X_train.shape[1]\n",
    "    m_slope = np.empty(n)\n",
    "    M = len(X_train)\n",
    "    for i in range(M):\n",
    "        y = Y_train[i]\n",
    "        for j in range(n):\n",
    "            one = m_slope*X_train[i];\n",
    "        \n",
    "            \n",
    "    new_m = m - learning_rate * m_slope\n",
    "    new_c = c - learning_rate * c_slope\n",
    "    return new_m, new_c"
   ]
  },
  {
   "cell_type": "code",
   "execution_count": null,
   "id": "4eee825a",
   "metadata": {},
   "outputs": [],
   "source": [
    "# The Gradient Descent Function\n",
    "def gd(X_train, Y_train, learning_rate, num_iterations):\n",
    "    m = 0       # Intial random value taken as 0\n",
    "    c = 0       # Intial random value taken as 0\n",
    "    for i in range(num_iterations):\n",
    "        m, c = step_gradient(X_train, Y_train, learning_rate, m , c)\n",
    "        print(i, \" Cost: \", cost(points, m, c))\n",
    "    return m, c"
   ]
  },
  {
   "cell_type": "code",
   "execution_count": null,
   "id": "78eef069",
   "metadata": {},
   "outputs": [],
   "source": []
  },
  {
   "cell_type": "code",
   "execution_count": null,
   "id": "cd9880c6",
   "metadata": {},
   "outputs": [],
   "source": [
    "def run():\n",
    "    alpha = 0.001\n",
    "    iterate = 100\n",
    "    m, c = gd(X_train, Y_train alpha, iterate)\n",
    "    "
   ]
  },
  {
   "cell_type": "code",
   "execution_count": 61,
   "id": "a0850530",
   "metadata": {},
   "outputs": [],
   "source": [
    "X_train = np.array(X_train)"
   ]
  },
  {
   "cell_type": "code",
   "execution_count": 64,
   "id": "c7ec60a2",
   "metadata": {},
   "outputs": [
    {
     "data": {
      "text/plain": [
       "array([-0.40784991, -0.48772236, -1.2660231 , -0.27259857, -0.57613394,\n",
       "        1.23997392,  0.84012202, -0.52026428, -0.75292215, -1.27835435,\n",
       "       -0.30309415,  0.41057102, -1.09799011,  1.        ])"
      ]
     },
     "execution_count": 64,
     "metadata": {},
     "output_type": "execute_result"
    }
   ],
   "source": [
    "X_train[0]"
   ]
  },
  {
   "cell_type": "code",
   "execution_count": 114,
   "id": "f78eadae",
   "metadata": {},
   "outputs": [],
   "source": [
    "n = X_train.shape[1]\n",
    "m_slope = np.zeros(n)"
   ]
  },
  {
   "cell_type": "code",
   "execution_count": 92,
   "id": "cb648cc2",
   "metadata": {},
   "outputs": [],
   "source": []
  },
  {
   "cell_type": "code",
   "execution_count": 116,
   "id": "b9d5614a",
   "metadata": {},
   "outputs": [
    {
     "data": {
      "text/plain": [
       "array([-0., -0., -0., -0., -0.,  0.,  0., -0., -0., -0., -0.,  0., -0.,\n",
       "        0.])"
      ]
     },
     "execution_count": 116,
     "metadata": {},
     "output_type": "execute_result"
    }
   ],
   "source": [
    "m_slope*X_train[0]"
   ]
  },
  {
   "cell_type": "code",
   "execution_count": 117,
   "id": "a250ad09",
   "metadata": {},
   "outputs": [
    {
     "data": {
      "text/plain": [
       "(14,)"
      ]
     },
     "execution_count": 117,
     "metadata": {},
     "output_type": "execute_result"
    }
   ],
   "source": [
    "m_slope.shape"
   ]
  },
  {
   "cell_type": "code",
   "execution_count": 118,
   "id": "9200d15d",
   "metadata": {},
   "outputs": [],
   "source": [
    "arr = X_train[0]"
   ]
  },
  {
   "cell_type": "code",
   "execution_count": 110,
   "id": "6befd579",
   "metadata": {
    "scrolled": true
   },
   "outputs": [],
   "source": [
    "arr = arr.reshape(-1, 1)"
   ]
  },
  {
   "cell_type": "code",
   "execution_count": 111,
   "id": "9b6a5061",
   "metadata": {},
   "outputs": [
    {
     "data": {
      "text/plain": [
       "(14, 1)"
      ]
     },
     "execution_count": 111,
     "metadata": {},
     "output_type": "execute_result"
    }
   ],
   "source": [
    "arr.shape"
   ]
  },
  {
   "cell_type": "code",
   "execution_count": 119,
   "id": "786a1081",
   "metadata": {},
   "outputs": [
    {
     "data": {
      "text/plain": [
       "array([-0., -0., -0., -0., -0.,  0.,  0., -0., -0., -0., -0.,  0., -0.,\n",
       "        0.])"
      ]
     },
     "execution_count": 119,
     "metadata": {},
     "output_type": "execute_result"
    }
   ],
   "source": [
    "m_slope*arr"
   ]
  },
  {
   "cell_type": "code",
   "execution_count": 98,
   "id": "31300af6",
   "metadata": {},
   "outputs": [
    {
     "data": {
      "text/plain": [
       "(1, 14)"
      ]
     },
     "execution_count": 98,
     "metadata": {},
     "output_type": "execute_result"
    }
   ],
   "source": [
    "m_slope.shape"
   ]
  },
  {
   "cell_type": "code",
   "execution_count": 105,
   "id": "01ee894d",
   "metadata": {},
   "outputs": [
    {
     "data": {
      "text/plain": [
       "(14,)"
      ]
     },
     "execution_count": 105,
     "metadata": {},
     "output_type": "execute_result"
    }
   ],
   "source": [
    "arr.shape"
   ]
  },
  {
   "cell_type": "code",
   "execution_count": 101,
   "id": "a89b9344",
   "metadata": {},
   "outputs": [
    {
     "data": {
      "text/plain": [
       "array([-0.40784991, -0.48772236, -1.2660231 , -0.27259857, -0.57613394,\n",
       "        1.23997392,  0.84012202, -0.52026428, -0.75292215, -1.27835435,\n",
       "       -0.30309415,  0.41057102, -1.09799011,  1.        ])"
      ]
     },
     "execution_count": 101,
     "metadata": {},
     "output_type": "execute_result"
    }
   ],
   "source": [
    "X_train[0]"
   ]
  },
  {
   "cell_type": "code",
   "execution_count": 104,
   "id": "b2611fd9",
   "metadata": {},
   "outputs": [
    {
     "data": {
      "text/plain": [
       "(14,)"
      ]
     },
     "execution_count": 104,
     "metadata": {},
     "output_type": "execute_result"
    }
   ],
   "source": [
    "arr.shape"
   ]
  },
  {
   "cell_type": "code",
   "execution_count": null,
   "id": "e538b143",
   "metadata": {},
   "outputs": [],
   "source": []
  }
 ],
 "metadata": {
  "kernelspec": {
   "display_name": "Python 3",
   "language": "python",
   "name": "python3"
  },
  "language_info": {
   "codemirror_mode": {
    "name": "ipython",
    "version": 3
   },
   "file_extension": ".py",
   "mimetype": "text/x-python",
   "name": "python",
   "nbconvert_exporter": "python",
   "pygments_lexer": "ipython3",
   "version": "3.8.8"
  }
 },
 "nbformat": 4,
 "nbformat_minor": 5
}
