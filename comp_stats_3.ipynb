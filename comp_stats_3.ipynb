{
  "nbformat": 4,
  "nbformat_minor": 0,
  "metadata": {
    "colab": {
      "provenance": []
    },
    "kernelspec": {
      "name": "python3",
      "display_name": "Python 3"
    },
    "language_info": {
      "name": "python"
    }
  },
  "cells": [
    {
      "cell_type": "code",
      "execution_count": 37,
      "metadata": {
        "id": "STVjK87tM-gx"
      },
      "outputs": [],
      "source": [
        "import numpy as np\n",
        "import matplotlib.pyplot as plt\n",
        "import math\n",
        "import random"
      ]
    },
    {
      "cell_type": "code",
      "source": [
        "x = np.random.uniform(0,1,10000)"
      ],
      "metadata": {
        "id": "FjIno2IfNR6M"
      },
      "execution_count": 40,
      "outputs": []
    },
    {
      "cell_type": "markdown",
      "source": [
        "Y follows exp(lambda) choose lambda such that 1-p = e^(-lambda)\n",
        "Define Z = Y + 1\n",
        "Z follows G(p), f(Z)~ p*(1-p)^(z-1), z=1,2,3, f(z) = 0 0.w.\n",
        "Generate a random samply of size N = 100 from geometric(0.3) from 100 samples of U(0,1)\n",
        "\n",
        "\n",
        "\n"
      ],
      "metadata": {
        "id": "9kS6983AW5v9"
      }
    },
    {
      "cell_type": "code",
      "source": [
        "y = []\n",
        "lam = -math.log(0.7)\n",
        "for i in range(len(x)):\n",
        "  y.append(-math.log(1-x[i])/lam)\n",
        "\n",
        "count, bins, ignored =plt.hist(y, 50, color = \"green\", alpha = 0.6, density=True)\n",
        "plt.show()\n",
        "plt.clf()"
      ],
      "metadata": {
        "colab": {
          "base_uri": "https://localhost:8080/",
          "height": 282
        },
        "id": "e4TvzrKsNlaI",
        "outputId": "56007de7-7bf0-4bb9-8268-0fcc713dac80"
      },
      "execution_count": 42,
      "outputs": [
        {
          "output_type": "display_data",
          "data": {
            "text/plain": [
              "<Figure size 432x288 with 1 Axes>"
            ],
            "image/png": "[encoded data removed]"
          },
          "metadata": {
            "needs_background": "light"
          }
        },
        {
          "output_type": "display_data",
          "data": {
            "text/plain": [
              "<Figure size 432x288 with 0 Axes>"
            ]
          },
          "metadata": {}
        }
      ]
    },
    {
      "cell_type": "code",
      "source": [
        "z = []\n",
        "for i in range(0, 100):\n",
        "  z.append(math.floor(y[i]) + 1)\n",
        "count, bins, ignored =plt.hist(z, 10, color = \"green\", alpha = 0.6, density=True)\n",
        "plt.show()\n",
        "plt.clf()"
      ],
      "metadata": {
        "colab": {
          "base_uri": "https://localhost:8080/",
          "height": 284
        },
        "id": "KbwNYpu5P4m2",
        "outputId": "19ae0f09-fff7-4d06-dff4-152dbeb8cec6"
      },
      "execution_count": 46,
      "outputs": [
        {
          "output_type": "display_data",
          "data": {
            "text/plain": [
              "<Figure size 432x288 with 1 Axes>"
            ],
            "image/png": "[encoded data removed]"
          },
          "metadata": {
            "needs_background": "light"
          }
        },
        {
          "output_type": "display_data",
          "data": {
            "text/plain": [
              "<Figure size 432x288 with 0 Axes>"
            ]
          },
          "metadata": {}
        }
      ]
    },
    {
      "cell_type": "markdown",
      "source": [
        "Generate a random sample of size N = 100 from the density f(x) = 2/(2^{2})pi (4-x^{2})^0.5, -2<=x<=2, f(x) = 0 o.w\n",
        "use uniform density as proposal density, choose appropriate c and use accept/reject algorithmto generate N "
      ],
      "metadata": {
        "id": "HeAHpXtlX1C5"
      }
    },
    {
      "cell_type": "code",
      "source": [
        "z = []\n",
        "c = 2\n",
        "x = np.random.uniform(-2,2,10000)\n",
        "accept = 0\n",
        "reject = 0\n",
        "for i in x:\n",
        "  f = math.sqrt(4-i**2)/(2*3.14)\n",
        "  j = np.random.uniform(0,c,1)\n",
        "  if j[0] <= f:\n",
        "    z.append(i)\n",
        "    accept += 1\n",
        "  else: \n",
        "    reject += 1\n"
      ],
      "metadata": {
        "id": "eO_uoBd6QW2D"
      },
      "execution_count": 34,
      "outputs": []
    },
    {
      "cell_type": "code",
      "source": [
        "effeciency = accept/(accept + reject)\n",
        "print(\"effeciency:\", effeciency)\n",
        "count, bins, ignored =plt.hist(z, 50, color = \"green\", alpha = 0.6, density=True)\n",
        "plt.show()\n",
        "plt.clf()"
      ],
      "metadata": {
        "colab": {
          "base_uri": "https://localhost:8080/",
          "height": 300
        },
        "id": "4n_yNpwVR9VQ",
        "outputId": "eee696aa-14c3-4340-bc8d-067f339f185e"
      },
      "execution_count": 35,
      "outputs": [
        {
          "output_type": "stream",
          "name": "stdout",
          "text": [
            "effeciency: 0.1211\n"
          ]
        },
        {
          "output_type": "display_data",
          "data": {
            "text/plain": [
              "<Figure size 432x288 with 1 Axes>"
            ],
            "image/png": "[encoded data removed]"
          },
          "metadata": {
            "needs_background": "light"
          }
        },
        {
          "output_type": "display_data",
          "data": {
            "text/plain": [
              "<Figure size 432x288 with 0 Axes>"
            ]
          },
          "metadata": {}
        }
      ]
    },
    {
      "cell_type": "code",
      "source": [
        "u = np.random.uniform(0,1,100000)\n",
        "lis2 = []\n",
        "\n",
        "def trans(x, lamb):\n",
        "  return -(1/lamb)*math.log(1-x)\n",
        "  \n",
        "for i in u:\n",
        "  lis2.append(trans(i, 1))\n",
        "\n",
        "def func(x):\n",
        "  return math.sqrt(2*math.exp(-(x**2))/math.pi)\n",
        "\n",
        "lis = []\n",
        "accept=0\n",
        "reject=0\n",
        "for x in lis2:\n",
        "  g = math.exp(-x)\n",
        "  i = np.random.uniform(0,c*g,100)[0]\n",
        "  ber_trial = np.random.binomial(1, 0.5, 100)[0]\n",
        "  if i<func(x):\n",
        "    if ber_trial == 0:\n",
        "      lis.append(-x)\n",
        "    else:\n",
        "      lis.append(x)\n",
        "    accept+=1\n",
        "  else:\n",
        "    reject+=1\n",
        "  if accept==1000:\n",
        "    break"
      ],
      "metadata": {
        "id": "wl_XVi0-lWD9"
      },
      "execution_count": 27,
      "outputs": []
    },
    {
      "cell_type": "code",
      "source": [
        "print(\"efficiency = \" , accept/(accept+reject))\n",
        "count, bins, ignored =plt.hist(lis, 50, color = \"green\", alpha = 0.6, density=True)\n",
        "plt.show()\n",
        "plt.clf()"
      ],
      "metadata": {
        "colab": {
          "base_uri": "https://localhost:8080/",
          "height": 300
        },
        "id": "Rz5QNHBuUoEO",
        "outputId": "d8cef1c6-dd4b-4658-b89c-6b69314ab57c"
      },
      "execution_count": 33,
      "outputs": [
        {
          "output_type": "stream",
          "name": "stdout",
          "text": [
            "efficiency =  0.7616146230007617\n"
          ]
        },
        {
          "output_type": "display_data",
          "data": {
            "text/plain": [
              "<Figure size 432x288 with 1 Axes>"
            ],
            "image/png": "[encoded data removed]"
          },
          "metadata": {
            "needs_background": "light"
          }
        },
        {
          "output_type": "display_data",
          "data": {
            "text/plain": [
              "<Figure size 432x288 with 0 Axes>"
            ]
          },
          "metadata": {}
        }
      ]
    },
    {
      "cell_type": "code",
      "source": [],
      "metadata": {
        "id": "HNTcG463VSB4"
      },
      "execution_count": null,
      "outputs": []
    }
  ]
}