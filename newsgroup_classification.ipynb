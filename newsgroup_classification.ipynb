{
  "nbformat": 4,
  "nbformat_minor": 0,
  "metadata": {
    "colab": {
      "provenance": []
    },
    "kernelspec": {
      "name": "python3",
      "display_name": "Python 3"
    },
    "language_info": {
      "name": "python"
    }
  },
  "cells": [
    {
      "cell_type": "code",
      "execution_count": 26,
      "metadata": {
        "id": "v2yEEKwm9zdK"
      },
      "outputs": [],
      "source": [
        "from sklearn.datasets import fetch_20newsgroups\n",
        "import string\n",
        "from nltk.corpus import stopwords\n",
        "from nltk.tokenize import word_tokenize\n",
        "from sklearn.model_selection import train_test_split\n",
        "import numpy as np\n",
        "from sklearn.naive_bayes import MultinomialNB\n",
        "from sklearn.svm import SVC\n",
        "from sklearn.neighbors import KNeighborsClassifier\n",
        "import matplotlib.pyplot as plt\n",
        "from sklearn.metrics import classification_report\n",
        "from sklearn.metrics import confusion_matrix\n",
        "from sklearn.model_selection import cross_val_score\n"
      ]
    },
    {
      "cell_type": "code",
      "source": [
        "import nltk\n",
        "nltk.download('stopwords')"
      ],
      "metadata": {
        "colab": {
          "base_uri": "https://localhost:8080/"
        },
        "id": "7w5N1Gjp-Iv4",
        "outputId": "a935ed7d-995e-4c14-e035-ea030fcc09c6"
      },
      "execution_count": 2,
      "outputs": [
        {
          "output_type": "stream",
          "name": "stderr",
          "text": [
            "[nltk_data] Downloading package stopwords to /root/nltk_data...\n",
            "[nltk_data]   Unzipping corpora/stopwords.zip.\n"
          ]
        },
        {
          "output_type": "execute_result",
          "data": {
            "text/plain": [
              "True"
            ]
          },
          "metadata": {},
          "execution_count": 2
        }
      ]
    },
    {
      "cell_type": "code",
      "source": [
        "df = fetch_20newsgroups()\n",
        "df.keys()"
      ],
      "metadata": {
        "colab": {
          "base_uri": "https://localhost:8080/"
        },
        "id": "r7TQs22H-Kup",
        "outputId": "ab10a007-815f-44b0-a740-58552dc7b6b2"
      },
      "execution_count": 3,
      "outputs": [
        {
          "output_type": "execute_result",
          "data": {
            "text/plain": [
              "dict_keys(['data', 'filenames', 'target_names', 'target', 'DESCR'])"
            ]
          },
          "metadata": {},
          "execution_count": 3
        }
      ]
    },
    {
      "cell_type": "code",
      "source": [
        "X = df.data\n",
        "Y = df.target"
      ],
      "metadata": {
        "id": "1w-F91QQ-Owj"
      },
      "execution_count": 4,
      "outputs": []
    },
    {
      "cell_type": "code",
      "source": [
        "import nltk\n",
        "nltk.download('punkt')\n",
        "from nltk.corpus import stopwords\n",
        "stop_words = stopwords.words('english')\n",
        "\n",
        "X = [word_tokenize(i) for i in X]"
      ],
      "metadata": {
        "colab": {
          "base_uri": "https://localhost:8080/"
        },
        "id": "ytK2Dmru-RE5",
        "outputId": "6ec9938b-d46d-4d44-9b1b-e2f85dbb8ee9"
      },
      "execution_count": 5,
      "outputs": [
        {
          "output_type": "stream",
          "name": "stderr",
          "text": [
            "[nltk_data] Downloading package punkt to /root/nltk_data...\n",
            "[nltk_data]   Unzipping tokenizers/punkt.zip.\n"
          ]
        }
      ]
    },
    {
      "cell_type": "code",
      "source": [
        "x_train, x_test, y_train, y_test=train_test_split(X, Y, random_state=1)\n"
      ],
      "metadata": {
        "id": "3e9IzB9p-as4"
      },
      "execution_count": 6,
      "outputs": []
    },
    {
      "cell_type": "code",
      "source": [
        "freq_count = {}\n",
        "for doc in x_train:\n",
        "  for word in doc:\n",
        "    if (word in freq_count):\n",
        "      freq_count[word] += 1\n",
        "    elif (stop_words.count(word.lower()) == 0 and len(word) != 2 and len(word) != 1 and word != '...' and word != \"n't\" and word != '....' and word != \"'AX\" and word != \"'re\" and word != \"'ve\"):\n",
        "      freq_count[word] = 1"
      ],
      "metadata": {
        "id": "N0SJhnDC_Oc1"
      },
      "execution_count": 8,
      "outputs": []
    },
    {
      "cell_type": "code",
      "source": [
        "import operator\n",
        "freq_count = dict( sorted(freq_count.items(), key=operator.itemgetter(1),reverse=True))\n",
        "\n",
        "\n",
        "i = 1\n",
        "val = []\n",
        "ind = []\n",
        "for value in freq_count.values():\n",
        "  ind.append(i)\n",
        "  val.append(value)\n",
        "  i = i + 1\n",
        "  if i == 3000:\n",
        "    break\n",
        "\n",
        "\n",
        "plt.plot(ind,val)"
      ],
      "metadata": {
        "colab": {
          "base_uri": "https://localhost:8080/",
          "height": 282
        },
        "id": "Px4FiGna_Vt6",
        "outputId": "e8486d9f-e260-4083-ebb1-3537533150b5"
      },
      "execution_count": 11,
      "outputs": [
        {
          "output_type": "execute_result",
          "data": {
            "text/plain": [
              "[<matplotlib.lines.Line2D at 0x7f4259d98dc0>]"
            ]
          },
          "metadata": {},
          "execution_count": 11
        },
        {
          "output_type": "display_data",
          "data": {
            "text/plain": [
              "<Figure size 432x288 with 1 Axes>"
            ],
            "image/png": "[encoded data removed]"
          },
          "metadata": {
            "needs_background": "light"
          }
        }
      ]
    },
    {
      "cell_type": "code",
      "source": [
        "features = list(freq_count)[10:4000]"
      ],
      "metadata": {
        "id": "hBLpj1u0_oug"
      },
      "execution_count": 12,
      "outputs": []
    },
    {
      "cell_type": "code",
      "source": [
        "def data_trans(X, features):\n",
        "  X_trans = np.zeros((len(X), len(features)))\n",
        "\n",
        "  for i in range(0, len(X)):\n",
        "    dic = dict()\n",
        "    for word in X[i]:\n",
        "      if word in dic.keys():\n",
        "        dic[word] += 1\n",
        "      else:\n",
        "        dic[word] = 1\n",
        "\n",
        "    for j in range(0, len(features)):\n",
        "      if features[j] in dic.keys():\n",
        "        X_trans[i][j] = dic[features[j]]\n",
        "\n",
        "  return X_trans\n",
        "\n",
        "\n",
        "x_train = data_trans(x_train,features)\n",
        "x_test = data_trans(x_test, features)"
      ],
      "metadata": {
        "id": "f2yXEthz_FN8"
      },
      "execution_count": 13,
      "outputs": []
    },
    {
      "cell_type": "markdown",
      "source": [
        "1. Naive Bayes"
      ],
      "metadata": {
        "id": "sq2VJ_1e-zYd"
      }
    },
    {
      "cell_type": "code",
      "source": [
        "clf= MultinomialNB()\n",
        "clf.fit(x_train, y_train)\n",
        "y_pred = clf.predict(x_test)\n",
        "clf.score(x_test, y_test)"
      ],
      "metadata": {
        "colab": {
          "base_uri": "https://localhost:8080/"
        },
        "id": "gFYG1c6i-j-7",
        "outputId": "f2030b7e-0781-4beb-9d29-d27ab7d82c7b"
      },
      "execution_count": 16,
      "outputs": [
        {
          "output_type": "execute_result",
          "data": {
            "text/plain": [
              "0.8119476846942383"
            ]
          },
          "metadata": {},
          "execution_count": 16
        }
      ]
    },
    {
      "cell_type": "code",
      "source": [
        "print(classification_report(y_test, y_pred))"
      ],
      "metadata": {
        "colab": {
          "base_uri": "https://localhost:8080/"
        },
        "id": "0Syyfi8v-6bX",
        "outputId": "4275ed8e-74d3-4b18-e3cc-f66bec48ad69"
      },
      "execution_count": 21,
      "outputs": [
        {
          "output_type": "stream",
          "name": "stdout",
          "text": [
            "              precision    recall  f1-score   support\n",
            "\n",
            "           0       0.81      0.80      0.80       114\n",
            "           1       0.58      0.74      0.65       152\n",
            "           2       0.93      0.57      0.71       139\n",
            "           3       0.61      0.73      0.66       152\n",
            "           4       0.70      0.79      0.74       138\n",
            "           5       0.86      0.75      0.80       153\n",
            "           6       0.72      0.80      0.76       147\n",
            "           7       0.78      0.84      0.81       137\n",
            "           8       0.78      0.87      0.82       131\n",
            "           9       0.88      0.96      0.92       135\n",
            "          10       0.97      0.88      0.92       136\n",
            "          11       0.95      0.92      0.93       145\n",
            "          12       0.81      0.68      0.74       157\n",
            "          13       0.90      0.89      0.90       151\n",
            "          14       0.91      0.88      0.89       155\n",
            "          15       0.90      0.86      0.88       159\n",
            "          16       0.83      0.91      0.87       140\n",
            "          17       0.94      0.89      0.91       149\n",
            "          18       0.84      0.78      0.80       138\n",
            "          19       0.73      0.67      0.70       101\n",
            "\n",
            "    accuracy                           0.81      2829\n",
            "   macro avg       0.82      0.81      0.81      2829\n",
            "weighted avg       0.82      0.81      0.81      2829\n",
            "\n"
          ]
        }
      ]
    },
    {
      "cell_type": "code",
      "source": [
        "print(confusion_matrix(y_test, y_pred))"
      ],
      "metadata": {
        "colab": {
          "base_uri": "https://localhost:8080/"
        },
        "id": "eV7_S2CjAT2_",
        "outputId": "e043f81d-49c2-4ec3-b683-20b9cecf3d61"
      },
      "execution_count": 22,
      "outputs": [
        {
          "output_type": "stream",
          "name": "stdout",
          "text": [
            "[[ 91   0   0   0   0   0   0   0   1   0   0   0   0   2   0   5   1   0\n",
            "    1  13]\n",
            " [  0 112   3  12   7   6   2   1   2   0   0   1   3   0   2   0   0   0\n",
            "    0   1]\n",
            " [  0  20  79  22   6   7   4   1   0   0   0   0   0   0   0   0   0   0\n",
            "    0   0]\n",
            " [  0   5   2 111  16   2   5   2   2   0   0   0   6   1   0   0   0   0\n",
            "    0   0]\n",
            " [  0   3   0   9 109   0  10   2   2   0   1   0   0   1   0   0   0   0\n",
            "    1   0]\n",
            " [  0  25   0   5   2 115   1   1   1   1   0   0   1   1   0   0   0   0\n",
            "    0   0]\n",
            " [  1   2   0   6   1   0 118   4   2   1   1   0   5   2   2   0   0   1\n",
            "    1   0]\n",
            " [  0   1   0   1   0   0   5 115   8   1   0   0   4   1   1   0   0   0\n",
            "    0   0]\n",
            " [  1   0   1   0   0   0   5   8 114   0   0   0   0   0   0   0   2   0\n",
            "    0   0]\n",
            " [  0   1   0   1   0   0   0   1   0 130   1   0   1   0   0   0   0   0\n",
            "    0   0]\n",
            " [  0   0   0   0   1   0   2   2   3   6 120   0   0   1   0   0   0   0\n",
            "    0   1]\n",
            " [  0   2   0   0   0   0   1   0   1   0   0 133   0   1   2   0   2   0\n",
            "    3   0]\n",
            " [  0   8   0  14  12   2   2   5   1   1   0   1 107   0   2   0   0   0\n",
            "    1   1]\n",
            " [  0   2   0   0   0   1   1   1   3   0   0   0   4 135   2   0   2   0\n",
            "    0   0]\n",
            " [  0   6   0   0   1   0   1   1   2   1   0   1   0   3 136   0   0   1\n",
            "    2   0]\n",
            " [  4   1   0   0   0   0   2   1   2   0   0   0   1   1   0 137   2   0\n",
            "    4   4]\n",
            " [  1   1   0   0   0   0   0   1   0   3   0   2   0   1   0   0 128   0\n",
            "    2   1]\n",
            " [  2   2   0   1   1   0   3   0   0   0   0   0   0   0   1   2   0 132\n",
            "    4   1]\n",
            " [  2   1   0   0   0   0   1   1   2   4   1   2   0   0   0   0  11   3\n",
            "  107   3]\n",
            " [ 11   1   0   0   0   0   0   0   0   0   0   0   0   0   2   8   6   3\n",
            "    2  68]]\n"
          ]
        }
      ]
    },
    {
      "cell_type": "markdown",
      "source": [
        "2. Support Vector Machines"
      ],
      "metadata": {
        "id": "-DqxPmwbAvTV"
      }
    },
    {
      "cell_type": "code",
      "source": [
        "clf2 = SVC(kernel='linear', C=100000)\n",
        "clf2.fit(x_train, y_train)\n",
        "y_pred = clf2.predict(x_test)\n",
        "clf2.score(x_test, y_test)"
      ],
      "metadata": {
        "colab": {
          "base_uri": "https://localhost:8080/"
        },
        "id": "s-QeHLiAAkXH",
        "outputId": "d01400ef-d537-4f88-84df-6dcb19382a5b"
      },
      "execution_count": 23,
      "outputs": [
        {
          "output_type": "execute_result",
          "data": {
            "text/plain": [
              "0.7705903145987981"
            ]
          },
          "metadata": {},
          "execution_count": 23
        }
      ]
    },
    {
      "cell_type": "code",
      "source": [
        "print(classification_report(y_test, y_pred))"
      ],
      "metadata": {
        "colab": {
          "base_uri": "https://localhost:8080/"
        },
        "id": "bg48yTS-BR47",
        "outputId": "90e6be9c-8d8a-4c35-b014-1cf2e4cad86b"
      },
      "execution_count": 24,
      "outputs": [
        {
          "output_type": "stream",
          "name": "stdout",
          "text": [
            "              precision    recall  f1-score   support\n",
            "\n",
            "           0       0.75      0.75      0.75       114\n",
            "           1       0.64      0.66      0.65       152\n",
            "           2       0.72      0.78      0.74       139\n",
            "           3       0.62      0.69      0.65       152\n",
            "           4       0.78      0.73      0.75       138\n",
            "           5       0.76      0.76      0.76       153\n",
            "           6       0.76      0.73      0.74       147\n",
            "           7       0.68      0.74      0.71       137\n",
            "           8       0.71      0.76      0.74       131\n",
            "           9       0.73      0.87      0.79       135\n",
            "          10       0.87      0.81      0.84       136\n",
            "          11       0.88      0.92      0.90       145\n",
            "          12       0.65      0.62      0.64       157\n",
            "          13       0.78      0.76      0.77       151\n",
            "          14       0.91      0.83      0.86       155\n",
            "          15       0.89      0.82      0.86       159\n",
            "          16       0.88      0.86      0.87       140\n",
            "          17       0.93      0.87      0.90       149\n",
            "          18       0.82      0.75      0.78       138\n",
            "          19       0.72      0.67      0.69       101\n",
            "\n",
            "    accuracy                           0.77      2829\n",
            "   macro avg       0.77      0.77      0.77      2829\n",
            "weighted avg       0.77      0.77      0.77      2829\n",
            "\n"
          ]
        }
      ]
    },
    {
      "cell_type": "code",
      "source": [
        "print(confusion_matrix(y_test, y_pred))"
      ],
      "metadata": {
        "colab": {
          "base_uri": "https://localhost:8080/"
        },
        "id": "OfPtmHGEBVnJ",
        "outputId": "768594cb-8e47-4c75-9056-e7f1ea623573"
      },
      "execution_count": 25,
      "outputs": [
        {
          "output_type": "stream",
          "name": "stdout",
          "text": [
            "[[ 86   0   0   0   0   0   0   1   1   3   0   1   0   1   2   1   2   1\n",
            "    4  11]\n",
            " [  0 101  14   8   3  13   0   1   1   1   2   3   2   1   1   0   0   0\n",
            "    1   0]\n",
            " [  0   7 108   9   1   6   1   1   0   3   1   0   2   0   0   0   0   0\n",
            "    0   0]\n",
            " [  1   7   7 105  10   4   4   2   1   2   0   1   6   0   0   1   1   0\n",
            "    0   0]\n",
            " [  0   2   3  14 101   2   6   1   1   2   0   0   6   0   0   0   0   0\n",
            "    0   0]\n",
            " [  0  11   4   7   2 117   0   1   1   1   1   1   2   4   0   0   0   0\n",
            "    0   1]\n",
            " [  0   5   2   7   2   2 107   2   6   0   3   2   6   2   0   0   0   0\n",
            "    1   0]\n",
            " [  0   0   2   1   1   0   6 101   7   1   2   0   9   1   1   1   0   0\n",
            "    2   2]\n",
            " [  0   0   0   0   1   0   4  12 100   1   1   1   2   2   2   1   0   0\n",
            "    2   2]\n",
            " [  0   0   0   2   0   0   2   2   3 117   5   0   1   0   0   0   0   0\n",
            "    3   0]\n",
            " [  0   0   3   2   0   0   0   1   4   6 110   1   2   4   0   0   1   1\n",
            "    0   1]\n",
            " [  0   2   0   0   0   0   0   1   1   1   0 134   2   2   0   0   0   0\n",
            "    1   1]\n",
            " [  0   9   4  11   7   5   3   6   1   2   1   1  98   4   2   1   0   0\n",
            "    0   2]\n",
            " [  3   3   2   1   0   2   1   3   3   2   1   0   8 115   1   1   2   0\n",
            "    1   2]\n",
            " [  0   8   0   1   0   1   1   3   2   2   0   0   1   2 128   2   1   1\n",
            "    2   0]\n",
            " [  9   0   0   1   1   0   0   1   3   5   0   1   1   0   0 131   0   3\n",
            "    1   2]\n",
            " [  0   0   1   0   0   1   2   8   1   1   0   0   0   3   1   0 120   1\n",
            "    1   0]\n",
            " [  0   3   1   0   1   1   1   1   1   2   0   0   2   1   0   1   0 130\n",
            "    2   2]\n",
            " [  1   0   0   0   0   0   1   0   3   7   0   7   1   3   1   1   7   2\n",
            "  103   1]\n",
            " [ 14   0   0   0   0   0   2   1   0   1   0   0   0   2   2   6   3   1\n",
            "    1  68]]\n"
          ]
        }
      ]
    },
    {
      "cell_type": "markdown",
      "source": [
        "3. K nearest Neighbours"
      ],
      "metadata": {
        "id": "AXW98lPXBwRw"
      }
    },
    {
      "cell_type": "code",
      "source": [
        "x_axis = []\n",
        "k_scores = []\n",
        "for k in range(1,50, 2):\n",
        "  x_axis.append(k)\n",
        "  clf = KNeighborsClassifier(n_neighbors=k)\n",
        "  scores = cross_val_score(clf, x_train, y_train, cv=10, scoring='accuracy')\n",
        "  k_scores.append(scores.mean())\n",
        "    \n",
        "\n",
        "plt.plot(x_axis, k_scores)\n",
        "plt.show()"
      ],
      "metadata": {
        "colab": {
          "base_uri": "https://localhost:8080/",
          "height": 265
        },
        "id": "cl6xncHRBW3W",
        "outputId": "4925bf6e-68ad-4842-b8b3-ac974333341a"
      },
      "execution_count": 28,
      "outputs": [
        {
          "output_type": "display_data",
          "data": {
            "text/plain": [
              "<Figure size 432x288 with 1 Axes>"
            ],
            "image/png": "[encoded data removed]"
          },
          "metadata": {
            "needs_background": "light"
          }
        }
      ]
    },
    {
      "cell_type": "code",
      "source": [
        "optimal_k = x_axis[k_scores.index(max(k_scores))]\n",
        "optimal_k"
      ],
      "metadata": {
        "colab": {
          "base_uri": "https://localhost:8080/"
        },
        "id": "wR_U7a64CSrk",
        "outputId": "7805851f-dfcd-4041-9d5d-8f6dc41b9d95"
      },
      "execution_count": 29,
      "outputs": [
        {
          "output_type": "execute_result",
          "data": {
            "text/plain": [
              "1"
            ]
          },
          "metadata": {},
          "execution_count": 29
        }
      ]
    },
    {
      "cell_type": "code",
      "source": [
        "clf = KNeighborsClassifier(n_neighbors = 1)\n",
        "clf.fit(x_train, y_train)\n",
        "clf.score(x_test, y_test)\n"
      ],
      "metadata": {
        "colab": {
          "base_uri": "https://localhost:8080/"
        },
        "id": "dtCi7KWuCpdx",
        "outputId": "ffcb5395-2a03-47d4-824c-50b6b8d94393"
      },
      "execution_count": 34,
      "outputs": [
        {
          "output_type": "execute_result",
          "data": {
            "text/plain": [
              "0.5630965005302226"
            ]
          },
          "metadata": {},
          "execution_count": 34
        }
      ]
    },
    {
      "cell_type": "code",
      "source": [],
      "metadata": {
        "id": "nbWGOoK9EvbG"
      },
      "execution_count": null,
      "outputs": []
    }
  ]
}